{
 "cells": [
  {
   "cell_type": "code",
   "execution_count": 18,
   "metadata": {},
   "outputs": [],
   "source": [
    "import cairo\n",
    "from IPython.display import Image, display, SVG\n",
    "from math import pi\n",
    "from io import BytesIO\n",
    "import math\n",
    "import numpy as np"
   ]
  },
  {
   "cell_type": "code",
   "execution_count": 10,
   "metadata": {},
   "outputs": [],
   "source": [
    "def disp(draw_func):\n",
    "    x,y = 300,300\n",
    "    svgio = BytesIO()\n",
    "    with cairo.SVGSurface(svgio, x, y) as surface:\n",
    "        context = cairo.Context(surface)\n",
    "        draw_func(context, x, y)\n",
    "    display(SVG(data=svgio.getvalue()))"
   ]
  },
  {
   "cell_type": "code",
   "execution_count": 11,
   "metadata": {},
   "outputs": [
    {
     "data": {
      "image/svg+xml": [
       "<svg xmlns=\"http://www.w3.org/2000/svg\" xmlns:xlink=\"http://www.w3.org/1999/xlink\" width=\"300pt\" height=\"300pt\" viewBox=\"0 0 300 300\" version=\"1.1\">\n",
       "<g id=\"surface31\">\n",
       "<path style=\"fill:none;stroke-width:0.04;stroke-linecap:butt;stroke-linejoin:miter;stroke:rgb(0%,0%,0%);stroke-opacity:1;stroke-miterlimit:10;\" d=\"M 0.1 0.5 C 0.4 0.9 0.6 0.1 0.9 0.5 \" transform=\"matrix(300,0,0,300,0,0)\"/>\n",
       "<path style=\"fill:none;stroke-width:0.02;stroke-linecap:butt;stroke-linejoin:miter;stroke:rgb(100%,20%,20%);stroke-opacity:0.6;stroke-miterlimit:10;\" d=\"M 0.1 0.5 L 0.4 0.9 M 0.6 0.1 L 0.9 0.5 \" transform=\"matrix(300,0,0,300,0,0)\"/>\n",
       "</g>\n",
       "</svg>"
      ],
      "text/plain": [
       "<IPython.core.display.SVG object>"
      ]
     },
     "metadata": {},
     "output_type": "display_data"
    }
   ],
   "source": [
    "@disp\n",
    "def sample(context, dimx, dimy):\n",
    "    x, y, x1, y1 = 0.1, 0.5, 0.4, 0.9\n",
    "    x2, y2, x3, y3 = 0.6, 0.1, 0.9, 0.5\n",
    "    context.scale(dimx, dimy)\n",
    "    context.set_line_width(0.04)\n",
    "    context.move_to(x, y)\n",
    "    context.curve_to(x1, y1, x2, y2, x3, y3)\n",
    "    context.stroke()\n",
    "    context.set_source_rgba(1, 0.2, 0.2, 0.6)\n",
    "    context.set_line_width(0.02)\n",
    "    context.move_to(x, y)\n",
    "    context.line_to(x1, y1)\n",
    "    context.move_to(x2, y2)\n",
    "    context.line_to(x3, y3)\n",
    "    context.stroke()\n"
   ]
  },
  {
   "cell_type": "code",
   "execution_count": 16,
   "metadata": {},
   "outputs": [
    {
     "data": {
      "image/svg+xml": [
       "<svg xmlns=\"http://www.w3.org/2000/svg\" xmlns:xlink=\"http://www.w3.org/1999/xlink\" width=\"300pt\" height=\"300pt\" viewBox=\"0 0 300 300\" version=\"1.1\">\n",
       "<defs>\n",
       "<linearGradient id=\"linear0\" gradientUnits=\"userSpaceOnUse\" x1=\"0\" y1=\"0\" x2=\"0\" y2=\"1\" gradientTransform=\"matrix(300,0,0,300,0,0)\">\n",
       "<stop offset=\"0\" style=\"stop-color:rgb(90%,70%,20%);stop-opacity:1;\"/>\n",
       "<stop offset=\"1\" style=\"stop-color:rgb(70%,0%,0%);stop-opacity:0.5;\"/>\n",
       "</linearGradient>\n",
       "</defs>\n",
       "<g id=\"surface46\">\n",
       "<rect x=\"0\" y=\"0\" width=\"300\" height=\"300\" style=\"fill:url(#linear0);stroke:none;\"/>\n",
       "<path style=\"fill:none;stroke-width:0.02;stroke-linecap:butt;stroke-linejoin:miter;stroke:rgb(30%,20%,50%);stroke-opacity:1;stroke-miterlimit:10;\" d=\"M 0 0 L 0.2 0 C 0.255234 0 0.3 0.0447656 0.3 0.1 L 0.5 0.1 C 0.5 0.2 0.5 0.4 0.2 0.8 Z M 0 0 \" transform=\"matrix(300,0,0,300,30,30)\"/>\n",
       "</g>\n",
       "</svg>"
      ],
      "text/plain": [
       "<IPython.core.display.SVG object>"
      ]
     },
     "metadata": {},
     "output_type": "display_data"
    }
   ],
   "source": [
    "@disp\n",
    "def sample2(ctx, x,y):\n",
    "    ctx.scale(x, y)  # Normalizing the canvas\n",
    "\n",
    "    pat = cairo.LinearGradient(0.0, 0.0, 0.0, 1.0)\n",
    "    pat.add_color_stop_rgba(1, 0.7, 0, 0, 0.5)  # First stop, 50% opacity\n",
    "    pat.add_color_stop_rgba(0, 0.9, 0.7, 0.2, 1)  # Last stop, 100% opacity\n",
    "\n",
    "    ctx.rectangle(0, 0, 1, 1)  # Rectangle(x0, y0, x1, y1)\n",
    "    ctx.set_source(pat)\n",
    "    ctx.fill()\n",
    "\n",
    "    ctx.translate(0.1, 0.1)  # Changing the current transformation matrix\n",
    "\n",
    "    ctx.move_to(0, 0)\n",
    "    # Arc(cx, cy, radius, start_angle, stop_angle)\n",
    "    ctx.arc(0.2, 0.1, 0.1, -math.pi / 2, 0)\n",
    "    ctx.line_to(0.5, 0.1)  # Line to (x,y)\n",
    "    # Curve(x1, y1, x2, y2, x3, y3)\n",
    "    ctx.curve_to(0.5, 0.2, 0.5, 0.4, 0.2, 0.8)\n",
    "    ctx.close_path()\n",
    "\n",
    "    ctx.set_source_rgb(0.3, 0.2, 0.5)  # Solid color\n",
    "    ctx.set_line_width(0.02)\n",
    "    ctx.stroke()"
   ]
  },
  {
   "cell_type": "code",
   "execution_count": 23,
   "metadata": {},
   "outputs": [
    {
     "data": {
      "image/svg+xml": [
       "<svg xmlns=\"http://www.w3.org/2000/svg\" xmlns:xlink=\"http://www.w3.org/1999/xlink\" width=\"300pt\" height=\"300pt\" viewBox=\"0 0 300 300\" version=\"1.1\">\n",
       "<g id=\"surface58\">\n",
       "<path style=\"fill:none;stroke-width:2;stroke-linecap:butt;stroke-linejoin:miter;stroke:rgb(0%,0%,100%);stroke-opacity:1;stroke-miterlimit:10;\" d=\"M 299 -5 L 299 299 L 1 299 L 1 1 L 293 1 L 293 293 L 7 293 L 7 7 L 287 7 L 287 287 L 13 287 L 13 13 L 281 13 L 281 281 L 19 281 L 19 19 L 275 19 L 275 275 L 25 275 L 25 25 L 269 25 L 269 269 L 31 269 L 31 31 L 263 31 L 263 263 L 37 263 L 37 37 L 257 37 L 257 257 L 43 257 L 43 43 L 251 43 L 251 251 L 49 251 L 49 49 L 245 49 \"/>\n",
       "</g>\n",
       "</svg>"
      ],
      "text/plain": [
       "<IPython.core.display.SVG object>"
      ]
     },
     "metadata": {},
     "output_type": "display_data"
    }
   ],
   "source": [
    "@disp\n",
    "def draw_spiral (ctx, width, height):\n",
    "    wd = .02 * width\n",
    "    hd = .02 * height\n",
    "\n",
    "    width -= 2\n",
    "    height -= 2\n",
    "\n",
    "    ctx.move_to (width + 1, 1-hd)\n",
    "    for i in range(9):\n",
    "        ctx.rel_line_to (0, height - hd * (2 * i - 1))\n",
    "        ctx.rel_line_to (- (width - wd * (2 *i)), 0)\n",
    "        ctx.rel_line_to (0, - (height - hd * (2*i)))\n",
    "        ctx.rel_line_to (width - wd * (2 * i + 1), 0)\n",
    "\n",
    "    ctx.set_source_rgb (0, 0, 1)\n",
    "    ctx.stroke()"
   ]
  },
  {
   "cell_type": "code",
   "execution_count": 20,
   "metadata": {},
   "outputs": [],
   "source": [
    "width, height = 255, 255\n",
    "data = np.ndarray(shape=(height, width), dtype=np.uint32)\n",
    "surface = cairo.ImageSurface.create_for_data(\n",
    "data, cairo.FORMAT_ARGB32, width, height)"
   ]
  },
  {
   "cell_type": "code",
   "execution_count": null,
   "metadata": {},
   "outputs": [],
   "source": [
    "svgio = BytesIO()\n",
    "    with cairo.SVGSurface(svgio, x, y) as surface:\n",
    "        context = cairo.Context(surface)\n",
    "        draw_func(context, x, y)\n",
    "    display(SVG(data=svgio.getvalue()))"
   ]
  },
  {
   "cell_type": "code",
   "execution_count": 24,
   "metadata": {},
   "outputs": [
    {
     "ename": "NameError",
     "evalue": "name 'imdata' is not defined",
     "output_type": "error",
     "traceback": [
      "\u001b[0;31m---------------------------------------------------------------------------\u001b[0m",
      "\u001b[0;31mNameError\u001b[0m                                 Traceback (most recent call last)",
      "\u001b[1;32m/Users/phil/repos/drawing/cairo.ipynb Cell 8\u001b[0m in \u001b[0;36m<cell line: 7>\u001b[0;34m()\u001b[0m\n\u001b[1;32m      <a href='vscode-notebook-cell:/Users/phil/repos/drawing/cairo.ipynb#X20sZmlsZQ%3D%3D?line=2'>3</a>\u001b[0m \u001b[39mfrom\u001b[39;00m \u001b[39mPIL\u001b[39;00m \u001b[39mimport\u001b[39;00m Image\n\u001b[1;32m      <a href='vscode-notebook-cell:/Users/phil/repos/drawing/cairo.ipynb#X20sZmlsZQ%3D%3D?line=4'>5</a>\u001b[0m \u001b[39m# imdata is a 2D numpy array of dtype np.uint8 containing grayscale pixel intensities on [0, 255]\u001b[39;00m\n\u001b[1;32m      <a href='vscode-notebook-cell:/Users/phil/repos/drawing/cairo.ipynb#X20sZmlsZQ%3D%3D?line=5'>6</a>\u001b[0m \u001b[39m# repeat for each of R, G, B, and add a deck of 255s for alpha\u001b[39;00m\n\u001b[0;32m----> <a href='vscode-notebook-cell:/Users/phil/repos/drawing/cairo.ipynb#X20sZmlsZQ%3D%3D?line=6'>7</a>\u001b[0m cairo_imdata \u001b[39m=\u001b[39m np\u001b[39m.\u001b[39mdstack([imdata, imdata, imdata, np\u001b[39m.\u001b[39mones_like(imdata)\u001b[39m*\u001b[39m\u001b[39m255\u001b[39m])\n\u001b[1;32m      <a href='vscode-notebook-cell:/Users/phil/repos/drawing/cairo.ipynb#X20sZmlsZQ%3D%3D?line=7'>8</a>\u001b[0m surface \u001b[39m=\u001b[39m cairo\u001b[39m.\u001b[39mImageSurface\u001b[39m.\u001b[39mcreate_for_data(cairo_imdata, cairo\u001b[39m.\u001b[39mFORMAT_ARGB32, \u001b[39m*\u001b[39m(\u001b[39mreversed\u001b[39m(imdata\u001b[39m.\u001b[39mshape)))\n\u001b[1;32m     <a href='vscode-notebook-cell:/Users/phil/repos/drawing/cairo.ipynb#X20sZmlsZQ%3D%3D?line=9'>10</a>\u001b[0m \u001b[39m# create a context and do some doodling\u001b[39;00m\n",
      "\u001b[0;31mNameError\u001b[0m: name 'imdata' is not defined"
     ]
    }
   ],
   "source": [
    "import cairo\n",
    "import numpy as np\n",
    "from PIL import Image\n",
    "\n",
    "# imdata is a 2D numpy array of dtype np.uint8 containing grayscale pixel intensities on [0, 255]\n",
    "# repeat for each of R, G, B, and add a deck of 255s for alpha\n",
    "cairo_imdata = np.dstack([imdata, imdata, imdata, np.ones_like(imdata)*255])\n",
    "surface = cairo.ImageSurface.create_for_data(cairo_imdata, cairo.FORMAT_ARGB32, *(reversed(imdata.shape)))\n",
    "\n",
    "# create a context and do some doodling\n",
    "ctx = cairo.Context(surface)\n",
    "ctx.set_source_rgb(1.0, 0.0, 0.0) # pure red\n",
    "ctx.set_line_width(3)\n",
    "# draw an arc centered at (10,10) with radius 5, from 0 to 2*pi radians\n",
    "ctx.arc(10, 10, 5, 0, 2*np.pi)\n",
    "ctx.stroke()\n",
    "\n",
    "h, w = cairo_imdata.shape[:-1]\n",
    "pil_image = Image.frombuffer(\"RGBA\", (w, h), surface.get_data(), \"raw\", \"BGRA\", 0, 1)\n",
    "\n",
    "# now you can do PIL things\n",
    "pil_image.save(\"image.jpg\")"
   ]
  },
  {
   "cell_type": "code",
   "execution_count": null,
   "metadata": {},
   "outputs": [],
   "source": []
  }
 ],
 "metadata": {
  "kernelspec": {
   "display_name": "base",
   "language": "python",
   "name": "python3"
  },
  "language_info": {
   "codemirror_mode": {
    "name": "ipython",
    "version": 3
   },
   "file_extension": ".py",
   "mimetype": "text/x-python",
   "name": "python",
   "nbconvert_exporter": "python",
   "pygments_lexer": "ipython3",
   "version": "3.9.12"
  },
  "orig_nbformat": 4
 },
 "nbformat": 4,
 "nbformat_minor": 2
}
